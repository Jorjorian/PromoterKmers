{
 "cells": [
  {
   "cell_type": "code",
   "id": "42dda699",
   "metadata": {
    "ExecuteTime": {
     "end_time": "2024-11-29T23:52:51.758630Z",
     "start_time": "2024-11-29T23:52:51.666914Z"
    }
   },
   "source": [
    "# Imports libraries to be used in the code below\n",
    "import pandas as pd\n",
    "import numpy as np\n",
    "import random\n",
    "from Bio import SeqIO\n",
    "from Bio import Entrez\n",
    "import pybedtools"
   ],
   "outputs": [
    {
     "ename": "ModuleNotFoundError",
     "evalue": "No module named 'pybedtools'",
     "output_type": "error",
     "traceback": [
      "\u001B[0;31m---------------------------------------------------------------------------\u001B[0m",
      "\u001B[0;31mModuleNotFoundError\u001B[0m                       Traceback (most recent call last)",
      "Cell \u001B[0;32mIn[3], line 7\u001B[0m\n\u001B[1;32m      5\u001B[0m \u001B[38;5;28;01mfrom\u001B[39;00m \u001B[38;5;21;01mBio\u001B[39;00m \u001B[38;5;28;01mimport\u001B[39;00m SeqIO\n\u001B[1;32m      6\u001B[0m \u001B[38;5;28;01mfrom\u001B[39;00m \u001B[38;5;21;01mBio\u001B[39;00m \u001B[38;5;28;01mimport\u001B[39;00m Entrez\n\u001B[0;32m----> 7\u001B[0m \u001B[38;5;28;01mimport\u001B[39;00m \u001B[38;5;21;01mpybedtools\u001B[39;00m\n",
      "\u001B[0;31mModuleNotFoundError\u001B[0m: No module named 'pybedtools'"
     ]
    }
   ],
   "execution_count": 3
  },
  {
   "cell_type": "code",
   "execution_count": 2,
   "id": "ff7f8aa8",
   "metadata": {},
   "outputs": [],
   "source": [
    "ara_tha_ids = []\n",
    "ara_tha_seqs = []\n",
    "ara_tha_file = SeqIO.parse('/Users/b.hyunyi/Desktop/Machine Learning Modules/Final_project/araTha1.txt','fasta')\n",
    "\n",
    "for x in ara_tha_file:\n",
    "    ara_tha_ids.append(x.id)\n",
    "    ara_tha_seqs.append(str(x.seq))\n",
    "    \n",
    "ara_tha_df = pd.DataFrame({\"Promoter ID\":ara_tha_ids, \"Sequence\":ara_tha_seqs})\n",
    "\n",
    "mouse_mus_ids = []\n",
    "mouse_mus_seqs = []\n",
    "mouse_mus_file = SeqIO.parse('/Users/b.hyunyi/Desktop/Machine Learning Modules/Final_project/mm10.txt','fasta')\n",
    "\n",
    "for y in mouse_mus_file:\n",
    "    mouse_mus_ids.append(y.id)\n",
    "    mouse_mus_seqs.append(str(y.seq))\n",
    "\n",
    "mouse_mus_df = pd.DataFrame({\"Promoter ID\":mouse_mus_ids, \"Sequence\":mouse_mus_seqs})"
   ]
  },
  {
   "cell_type": "code",
   "execution_count": 3,
   "id": "d32a7b13",
   "metadata": {},
   "outputs": [],
   "source": [
    "ara_tha_bed = pd.read_csv('/Users/b.hyunyi/Desktop/Machine Learning Modules/Final_project/arabidopsis_epdnew_KZQd3.bed',\n",
    "                         sep = '\\t',header = None)\n",
    "ara_tha_bed_chr1 = ara_tha_bed[ara_tha_bed[0] == \"chr1\"]\n",
    "# This is needed because the bed files only give coordinates of the transcription start site.\n",
    "# + and - values from transcription start site is based on the properties of EPD database that will\n",
    "# be explained in the report.\n",
    "for r in range(len(ara_tha_bed_chr1)):\n",
    "    transcription_start_a = ara_tha_bed_chr1.iloc[r,1]\n",
    "    ara_tha_bed_chr1.iloc[r,1] = transcription_start_a - 250\n",
    "    ara_tha_bed_chr1.iloc[r,2] = transcription_start_a + 100\n",
    "\n",
    "ara_tha_bed_chr1.to_csv('/Users/b.hyunyi/Desktop/Machine Learning Modules/Final_project/ara_tha_bed_chr1.tsv', sep='\\t', index=False)\n",
    "\n",
    "mouse_mus_bed = pd.read_csv('/Users/b.hyunyi/Desktop/Machine Learning Modules/Final_project/mouse_epdnew_HlytC.bed',\n",
    "                         sep = '\\t',header = None)\n",
    "mouse_mus_bed_chr1 = mouse_mus_bed[mouse_mus_bed[0] == \"chr1\"]\n",
    "\n",
    "for r in range(len(mouse_mus_bed_chr1)):\n",
    "    transcription_start_m = mouse_mus_bed_chr1.iloc[r,1]\n",
    "    mouse_mus_bed_chr1.iloc[r,1] = transcription_start_m - 250\n",
    "    mouse_mus_bed_chr1.iloc[r,2] = transcription_start_m + 100\n",
    "\n",
    "mouse_mus_bed_chr1.to_csv('/Users/b.hyunyi/Desktop/Machine Learning Modules/Final_project/mouse_mus_bed_chr1.tsv', sep='\\t', index=False)"
   ]
  },
  {
   "cell_type": "code",
   "execution_count": 4,
   "id": "e6897e8c",
   "metadata": {},
   "outputs": [],
   "source": [
    "Entrez.email = \"b.hyunyi@gmail.com\"\n",
    "\n",
    "ara_tha_id = \"NC_003070.9\"\n",
    "\n",
    "ara_handle = Entrez.efetch(db=\"nucleotide\", id=ara_tha_id, rettype=\"fasta\", retmode=\"text\")\n",
    "\n",
    "ara_tha_ref = ara_handle.read()\n",
    "ara_handle.close()\n",
    "\n",
    "ara_tha_ref = ara_tha_ref.split(\"\\n\")[1:]\n",
    "\n",
    "ara_tha_ref = \"\".join(ara_tha_ref)\n"
   ]
  },
  {
   "cell_type": "code",
   "id": "f86fd57b",
   "metadata": {
    "ExecuteTime": {
     "end_time": "2024-11-29T23:51:54.041651Z",
     "start_time": "2024-11-29T23:51:53.646546Z"
    }
   },
   "source": [
    "## extract non-promoter regions ###\n",
    "ara_tha_ref_bed = pybedtools.BedTool([(\"chr1\", 0, len(ara_tha_ref))])\n",
    "\n",
    "non_pro_ara_bed = ara_tha_ref_bed.subtract(\n",
    "    '/Users/b.hyunyi/Desktop/Machine Learning Modules/Final_project/ara_tha_bed_chr1.tsv')\n",
    "\n",
    "non_pro_ara_seqs = []\n",
    "for x in non_pro_ara_bed:\n",
    "    start, end = x.start, x.end\n",
    "    non_pro_ara_seqs.append(ara_tha_ref[start:end])\n",
    "    \n",
    "non_pro_ara_seqs_adj = []\n",
    "for seq in non_pro_ara_seqs:\n",
    "    if len(seq) >= 350:\n",
    "        start_index = random.randint(0,len(seq) - 350)\n",
    "        rand_seq = seq[start_index:start_index + 350]\n",
    "        non_pro_ara_seqs_adj.append(rand_seq)\n",
    "        \n",
    "non_pro_ara_df = pd.DataFrame({\"Promoter ID\":\"Non-promoter\", \"Sequence\":non_pro_ara_seqs_adj})\n",
    "\n",
    "ara_tha_df_final = pd.concat([ara_tha_df, non_pro_ara_df], axis=0, ignore_index=True)"
   ],
   "outputs": [
    {
     "ename": "NameError",
     "evalue": "name 'pybedtools' is not defined",
     "output_type": "error",
     "traceback": [
      "\u001B[0;31m---------------------------------------------------------------------------\u001B[0m",
      "\u001B[0;31mNameError\u001B[0m                                 Traceback (most recent call last)",
      "Cell \u001B[0;32mIn[1], line 2\u001B[0m\n\u001B[1;32m      1\u001B[0m \u001B[38;5;66;03m## extract non-promoter regions ###\u001B[39;00m\n\u001B[0;32m----> 2\u001B[0m ara_tha_ref_bed \u001B[38;5;241m=\u001B[39m pybedtools\u001B[38;5;241m.\u001B[39mBedTool([(\u001B[38;5;124m\"\u001B[39m\u001B[38;5;124mchr1\u001B[39m\u001B[38;5;124m\"\u001B[39m, \u001B[38;5;241m0\u001B[39m, \u001B[38;5;28mlen\u001B[39m(ara_tha_ref))])\n\u001B[1;32m      4\u001B[0m non_pro_ara_bed \u001B[38;5;241m=\u001B[39m ara_tha_ref_bed\u001B[38;5;241m.\u001B[39msubtract(\n\u001B[1;32m      5\u001B[0m     \u001B[38;5;124m'\u001B[39m\u001B[38;5;124m/Users/b.hyunyi/Desktop/Machine Learning Modules/Final_project/ara_tha_bed_chr1.tsv\u001B[39m\u001B[38;5;124m'\u001B[39m)\n\u001B[1;32m      7\u001B[0m non_pro_ara_seqs \u001B[38;5;241m=\u001B[39m []\n",
      "\u001B[0;31mNameError\u001B[0m: name 'pybedtools' is not defined"
     ]
    }
   ],
   "execution_count": 1
  },
  {
   "cell_type": "code",
   "execution_count": 6,
   "id": "c52e43a3",
   "metadata": {},
   "outputs": [],
   "source": [
    "ara_tha_df_final.to_csv('/Users/b.hyunyi/Desktop/Machine Learning Modules/Final_project/ara_tha_final.csv', index=False)\n",
    "\n"
   ]
  },
  {
   "cell_type": "code",
   "execution_count": 7,
   "id": "c9498fa6",
   "metadata": {},
   "outputs": [],
   "source": [
    "mouse_mus_id = \"NC_000067.7\"\n",
    "\n",
    "mouse_handle = Entrez.efetch(db=\"nucleotide\", id=mouse_mus_id, rettype=\"fasta\", retmode=\"text\")\n",
    "\n",
    "mouse_mus_ref = mouse_handle.read()\n",
    "mouse_handle.close()\n",
    "\n",
    "mouse_mus_ref = mouse_mus_ref.split(\"\\n\")[1:]\n",
    "\n",
    "mouse_mus_ref = \"\".join(mouse_mus_ref)"
   ]
  },
  {
   "cell_type": "code",
   "id": "906a8be9",
   "metadata": {
    "ExecuteTime": {
     "end_time": "2024-11-29T23:53:15.299666Z",
     "start_time": "2024-11-29T23:53:15.265439Z"
    }
   },
   "source": [
    "## extract non-promoter regions ###\n",
    "mouse_mus_ref_bed = pybedtools.BedTool([(\"chr1\", 0, len(mouse_mus_ref))])\n",
    "\n",
    "non_pro_mouse_bed = mouse_mus_ref_bed.subtract(\n",
    "    '/Users/b.hyunyi/Desktop/Machine Learning Modules/Final_project/mouse_mus_bed_chr1.tsv')\n",
    "\n",
    "non_pro_mouse_seqs = []\n",
    "for x in non_pro_mouse_bed:\n",
    "    start, end = x.start, x.end\n",
    "    non_pro_mouse_seqs.append(mouse_mus_ref[start:end])\n",
    "    \n",
    "non_pro_mouse_seqs_adj = []\n",
    "for seq in non_pro_mouse_seqs:\n",
    "    if len(seq) >= 350:\n",
    "        start_index = random.randint(0,len(seq) - 350)\n",
    "        rand_seq = seq[start_index:start_index + 350]\n",
    "        if \"N\" not in rand_seq:\n",
    "            non_pro_mouse_seqs_adj.append(rand_seq)\n",
    "        \n",
    "non_pro_mouse_df = pd.DataFrame({\"Promoter ID\":\"Non-promoter\", \"Sequence\":non_pro_mouse_seqs_adj})\n",
    "\n",
    "mouse_mus_df_final = pd.concat([mouse_mus_df, non_pro_mouse_df], axis=0, ignore_index=True)"
   ],
   "outputs": [
    {
     "ename": "NameError",
     "evalue": "name 'pybedtools' is not defined",
     "output_type": "error",
     "traceback": [
      "\u001B[0;31m---------------------------------------------------------------------------\u001B[0m",
      "\u001B[0;31mNameError\u001B[0m                                 Traceback (most recent call last)",
      "Cell \u001B[0;32mIn[4], line 2\u001B[0m\n\u001B[1;32m      1\u001B[0m \u001B[38;5;66;03m## extract non-promoter regions ###\u001B[39;00m\n\u001B[0;32m----> 2\u001B[0m mouse_mus_ref_bed \u001B[38;5;241m=\u001B[39m pybedtools\u001B[38;5;241m.\u001B[39mBedTool([(\u001B[38;5;124m\"\u001B[39m\u001B[38;5;124mchr1\u001B[39m\u001B[38;5;124m\"\u001B[39m, \u001B[38;5;241m0\u001B[39m, \u001B[38;5;28mlen\u001B[39m(mouse_mus_ref))])\n\u001B[1;32m      4\u001B[0m non_pro_mouse_bed \u001B[38;5;241m=\u001B[39m mouse_mus_ref_bed\u001B[38;5;241m.\u001B[39msubtract(\n\u001B[1;32m      5\u001B[0m     \u001B[38;5;124m'\u001B[39m\u001B[38;5;124m/Users/b.hyunyi/Desktop/Machine Learning Modules/Final_project/mouse_mus_bed_chr1.tsv\u001B[39m\u001B[38;5;124m'\u001B[39m)\n\u001B[1;32m      7\u001B[0m non_pro_mouse_seqs \u001B[38;5;241m=\u001B[39m []\n",
      "\u001B[0;31mNameError\u001B[0m: name 'pybedtools' is not defined"
     ]
    }
   ],
   "execution_count": 4
  },
  {
   "cell_type": "code",
   "execution_count": 9,
   "id": "d8bcc9ef",
   "metadata": {},
   "outputs": [],
   "source": [
    "mouse_mus_df_final.to_csv('/Users/b.hyunyi/Desktop/Machine Learning Modules/Final_project/mouse_mus_final.csv', index=False)\n"
   ]
  },
  {
   "cell_type": "code",
   "execution_count": null,
   "id": "995d9958",
   "metadata": {},
   "outputs": [],
   "source": []
  }
 ],
 "metadata": {
  "kernelspec": {
   "display_name": "Python 3 (ipykernel)",
   "language": "python",
   "name": "python3"
  },
  "language_info": {
   "codemirror_mode": {
    "name": "ipython",
    "version": 3
   },
   "file_extension": ".py",
   "mimetype": "text/x-python",
   "name": "python",
   "nbconvert_exporter": "python",
   "pygments_lexer": "ipython3",
   "version": "3.11.4"
  }
 },
 "nbformat": 4,
 "nbformat_minor": 5
}
