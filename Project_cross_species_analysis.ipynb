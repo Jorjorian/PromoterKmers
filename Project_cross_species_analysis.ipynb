{
 "cells": [
  {
   "cell_type": "code",
   "execution_count": 1,
   "id": "42dda699",
   "metadata": {},
   "outputs": [],
   "source": [
    "# Imports libraries to be used in the code below\n",
    "import pandas as pd\n",
    "import numpy as np\n",
    "from Bio import SeqIO\n",
    "from Bio import Entrez"
   ]
  },
  {
   "cell_type": "code",
   "execution_count": 2,
   "id": "ff7f8aa8",
   "metadata": {},
   "outputs": [],
   "source": [
    "ara_tha_ids = []\n",
    "ara_tha_seqs = []\n",
    "ara_tha_file = SeqIO.parse('/Users/b.hyunyi/Desktop/Machine Learning Modules/Final_project/araTha1.txt','fasta')\n",
    "\n",
    "for x in ara_tha_file:\n",
    "    ara_tha_ids.append(x.id)\n",
    "    ara_tha_seqs.append(str(x.seq))\n",
    "    \n",
    "ara_tha_df = pd.DataFrame({\"Promoter ID\":ara_tha_ids, \"Sequence\":ara_tha_seqs})\n",
    "\n",
    "mouse_mus_ids = []\n",
    "mouse_mus_seqs = []\n",
    "mouse_mus_file = SeqIO.parse('/Users/b.hyunyi/Desktop/Machine Learning Modules/Final_project/mm10.txt','fasta')\n",
    "\n",
    "for y in mouse_mus_file:\n",
    "    mouse_mus_ids.append(y.id)\n",
    "    mouse_mus_seqs.append(str(y.seq))\n",
    "\n",
    "mouse_mus_df = pd.DataFrame({\"Promoter ID\":mouse_mus_ids, \"Sequence\":mouse_mus_seqs})"
   ]
  },
  {
   "cell_type": "code",
   "execution_count": 3,
   "id": "d32a7b13",
   "metadata": {},
   "outputs": [],
   "source": [
    "ara_tha_bed = pd.read_csv('/Users/b.hyunyi/Desktop/Machine Learning Modules/Final_project/arabidopsis_epdnew_KZQd3.bed',\n",
    "                         sep = '\\t',header = None)\n",
    "ara_tha_bed_chr1 = ara_tha_bed[ara_tha_bed[0] == \"chr1\"]\n",
    "# This is needed because the bed files only give coordinates of the transcription start site.\n",
    "# + and - values from transcription start site is based on the properties of EPD database that will\n",
    "# be explained in the report.\n",
    "for r in range(len(ara_tha_bed_chr1)):\n",
    "    transcription_start_a = ara_tha_bed_chr1.iloc[r,1]\n",
    "    ara_tha_bed_chr1.iloc[r,1] = transcription_start_a - 250\n",
    "    ara_tha_bed_chr1.iloc[r,2] = transcription_start_a + 100\n",
    "\n",
    "\n",
    "mouse_mus_bed = pd.read_csv('/Users/b.hyunyi/Desktop/Machine Learning Modules/Final_project/mouse_epdnew_HlytC.bed',\n",
    "                         sep = '\\t',header = None)\n",
    "mouse_mus_bed_chr1 = mouse_mus_bed[mouse_mus_bed[0] == \"chr1\"]\n",
    "\n",
    "for r in range(len(mouse_mus_bed_chr1)):\n",
    "    transcription_start_m = mouse_mus_bed_chr1.iloc[r,1]\n",
    "    mouse_mus_bed_chr1.iloc[r,1] = transcription_start_m - 250\n",
    "    mouse_mus_bed_chr1.iloc[r,2] = transcription_start_m + 100\n"
   ]
  },
  {
   "cell_type": "code",
   "execution_count": 4,
   "id": "e6897e8c",
   "metadata": {},
   "outputs": [],
   "source": [
    "Entrez.email = \"b.hyunyi@gmail.com\"\n",
    "\n",
    "ara_tha_id = \"NC_003070.9\"\n",
    "\n",
    "ara_handle = Entrez.efetch(db=\"nucleotide\", id=ara_tha_id, rettype=\"fasta\", retmode=\"text\")\n",
    "\n",
    "ara_tha_ref = ara_handle.read()\n",
    "ara_handle.close()\n",
    "\n",
    "ara_tha_ref = ara_tha_ref.split(\"\\n\")[1:]\n",
    "\n",
    "ara_tha_ref = \"\".join(ara_tha_ref)"
   ]
  },
  {
   "cell_type": "code",
   "execution_count": 5,
   "id": "c9498fa6",
   "metadata": {},
   "outputs": [],
   "source": [
    "mouse_mus_id = \"NC_000067.7\"\n",
    "\n",
    "mouse_handle = Entrez.efetch(db=\"nucleotide\", id=mouse_mus_id, rettype=\"fasta\", retmode=\"text\")\n",
    "\n",
    "mouse_mus_ref = mouse_handle.read()\n",
    "mouse_handle.close()\n",
    "\n",
    "mouse_mus_ref = mouse_mus_ref.split(\"\\n\")[1:]\n",
    "\n",
    "mouse_mus_ref = \"\".join(mouse_mus_ref)"
   ]
  },
  {
   "cell_type": "code",
   "execution_count": 6,
   "id": "01e97b78",
   "metadata": {},
   "outputs": [
    {
     "data": {
      "text/plain": [
       "195154279"
      ]
     },
     "execution_count": 6,
     "metadata": {},
     "output_type": "execute_result"
    }
   ],
   "source": [
    "len(mouse_mus_ref)"
   ]
  },
  {
   "cell_type": "code",
   "execution_count": 7,
   "id": "9b90b9c1",
   "metadata": {},
   "outputs": [
    {
     "data": {
      "text/plain": [
       "30427671"
      ]
     },
     "execution_count": 7,
     "metadata": {},
     "output_type": "execute_result"
    }
   ],
   "source": [
    "len(ara_tha_ref)"
   ]
  },
  {
   "cell_type": "code",
   "execution_count": null,
   "id": "04345a84",
   "metadata": {},
   "outputs": [],
   "source": []
  }
 ],
 "metadata": {
  "kernelspec": {
   "display_name": "Python 3 (ipykernel)",
   "language": "python",
   "name": "python3"
  },
  "language_info": {
   "codemirror_mode": {
    "name": "ipython",
    "version": 3
   },
   "file_extension": ".py",
   "mimetype": "text/x-python",
   "name": "python",
   "nbconvert_exporter": "python",
   "pygments_lexer": "ipython3",
   "version": "3.11.4"
  }
 },
 "nbformat": 4,
 "nbformat_minor": 5
}
